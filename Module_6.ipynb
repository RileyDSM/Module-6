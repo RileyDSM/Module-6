{
  "nbformat": 4,
  "nbformat_minor": 0,
  "metadata": {
    "colab": {
      "provenance": [],
      "authorship_tag": "ABX9TyNEaOSjDbgYbQsbg6RV75a8",
      "include_colab_link": true
    },
    "kernelspec": {
      "name": "python3",
      "display_name": "Python 3"
    },
    "language_info": {
      "name": "python"
    }
  },
  "cells": [
    {
      "cell_type": "markdown",
      "metadata": {
        "id": "view-in-github",
        "colab_type": "text"
      },
      "source": [
        "<a href=\"https://colab.research.google.com/github/RileyDSM/Module-6/blob/main/Module_6.ipynb\" target=\"_parent\"><img src=\"https://colab.research.google.com/assets/colab-badge.svg\" alt=\"Open In Colab\"/></a>"
      ]
    },
    {
      "cell_type": "code",
      "execution_count": 1,
      "metadata": {
        "colab": {
          "base_uri": "https://localhost:8080/"
        },
        "id": "wcixrBhGrNR2",
        "outputId": "8774b0d9-b1f0-4454-9aa1-3509d5d383d3"
      },
      "outputs": [
        {
          "output_type": "stream",
          "name": "stdout",
          "text": [
            "Collecting pyinputplus\n",
            "  Downloading PyInputPlus-0.2.12.tar.gz (20 kB)\n",
            "  Installing build dependencies ... \u001b[?25l\u001b[?25hdone\n",
            "  Getting requirements to build wheel ... \u001b[?25l\u001b[?25hdone\n",
            "  Preparing metadata (pyproject.toml) ... \u001b[?25l\u001b[?25hdone\n",
            "Collecting pysimplevalidate>=0.2.7 (from pyinputplus)\n",
            "  Downloading PySimpleValidate-0.2.12.tar.gz (22 kB)\n",
            "  Installing build dependencies ... \u001b[?25l\u001b[?25hdone\n",
            "  Getting requirements to build wheel ... \u001b[?25l\u001b[?25hdone\n",
            "  Preparing metadata (pyproject.toml) ... \u001b[?25l\u001b[?25hdone\n",
            "Collecting stdiomask>=0.0.3 (from pyinputplus)\n",
            "  Downloading stdiomask-0.0.6.tar.gz (3.6 kB)\n",
            "  Installing build dependencies ... \u001b[?25l\u001b[?25hdone\n",
            "  Getting requirements to build wheel ... \u001b[?25l\u001b[?25hdone\n",
            "  Preparing metadata (pyproject.toml) ... \u001b[?25l\u001b[?25hdone\n",
            "Building wheels for collected packages: pyinputplus, pysimplevalidate, stdiomask\n",
            "  Building wheel for pyinputplus (pyproject.toml) ... \u001b[?25l\u001b[?25hdone\n",
            "  Created wheel for pyinputplus: filename=PyInputPlus-0.2.12-py3-none-any.whl size=11299 sha256=8d8356e22ee66a8229f4bc016f37fbe86fba43222cc8466e392f61b36b1ef92a\n",
            "  Stored in directory: /root/.cache/pip/wheels/13/ec/a5/f780c8008b74e885aada43369ebf4d350edfd12bb5909ccb23\n",
            "  Building wheel for pysimplevalidate (pyproject.toml) ... \u001b[?25l\u001b[?25hdone\n",
            "  Created wheel for pysimplevalidate: filename=PySimpleValidate-0.2.12-py3-none-any.whl size=16178 sha256=2e90dfcfd2faadfcf12fd48682a1f6ebc10045808b33e974bf1b2fdb8a933374\n",
            "  Stored in directory: /root/.cache/pip/wheels/64/29/c9/2ee861e5b0775e289013b7c7157e0bdcea3a1b844f835b2eb8\n",
            "  Building wheel for stdiomask (pyproject.toml) ... \u001b[?25l\u001b[?25hdone\n",
            "  Created wheel for stdiomask: filename=stdiomask-0.0.6-py3-none-any.whl size=3306 sha256=2dc009d5f52e033bc9a01e26c25353664177aa3a39d1f3e3e858a31d8c575873\n",
            "  Stored in directory: /root/.cache/pip/wheels/6c/00/4b/0715696f101d7376f67a83cf3d545feb8c241eeee75b80bb6f\n",
            "Successfully built pyinputplus pysimplevalidate stdiomask\n",
            "Installing collected packages: stdiomask, pysimplevalidate, pyinputplus\n",
            "Successfully installed pyinputplus-0.2.12 pysimplevalidate-0.2.12 stdiomask-0.0.6\n"
          ]
        }
      ],
      "source": [
        "!pip install pyinputplus"
      ]
    },
    {
      "cell_type": "code",
      "source": [
        "import pyinputplus as pyip"
      ],
      "metadata": {
        "id": "Lx6PC5ldvNeX"
      },
      "execution_count": 2,
      "outputs": []
    },
    {
      "cell_type": "code",
      "source": [
        "def get_weather_data():\n",
        "    try:\n",
        "        city = pyip.inputStr(\"Enter city name: \")\n",
        "        temp = pyip.inputFloat(\"Enter temperature in Celsius: \")\n",
        "        wind_speed = pyip.inputFloat(\"Enter wind speed (km/h): \", min=0)\n",
        "        wind_direction = pyip.inputChoice([\"N\", \"S\", \"E\", \"W\"], prompt=\"Enter wind direction (N/S/E/W): \")\n",
        "        return city, temp, wind_speed, wind_direction\n",
        "    except Exception as e:\n",
        "        print(f\"An error occurred: {e}\")\n",
        "        return None, None, None, None"
      ],
      "metadata": {
        "id": "0Ccw7DoVvlAH"
      },
      "execution_count": 3,
      "outputs": []
    },
    {
      "cell_type": "code",
      "source": [
        "result 23= get_weather_data()"
      ],
      "metadata": {
        "colab": {
          "base_uri": "https://localhost:8080/"
        },
        "id": "mVAUIyiZvt-_",
        "outputId": "94db5d53-5303-4c65-bdff-644562085305"
      },
      "execution_count": 5,
      "outputs": [
        {
          "name": "stdout",
          "output_type": "stream",
          "text": [
            "Enter city name: perth\n",
            "Enter temperature in Celsius: 23.7\n",
            "Enter wind speed (km/h): 13.3\n",
            "Enter wind direction (N/S/E/W): n\n"
          ]
        }
      ]
    },
    {
      "cell_type": "code",
      "source": [
        "city, temp, wind, direction = get_weather_data()"
      ],
      "metadata": {
        "colab": {
          "base_uri": "https://localhost:8080/"
        },
        "id": "VCvbxBkCxVuE",
        "outputId": "d136af5a-1480-4587-baef-b46853a06bfb"
      },
      "execution_count": 6,
      "outputs": [
        {
          "name": "stdout",
          "output_type": "stream",
          "text": [
            "Enter city name: perth\n",
            "Enter temperature in Celsius: 12\n",
            "Enter wind speed (km/h): 13.2\n",
            "Enter wind direction (N/S/E/W): s\n"
          ]
        }
      ]
    },
    {
      "cell_type": "code",
      "source": [
        "city, temp, wind_speed, wind_direction = get_weather_data()\n",
        "if city:\n",
        "    print(f\"Weather in {city}: {temp}°C, Wind: {wind_speed} km/h {wind_direction}\")\n",
        "else:\n",
        "    print(\"Failed to get weather data.\")"
      ],
      "metadata": {
        "colab": {
          "base_uri": "https://localhost:8080/"
        },
        "id": "tnaY0USryOxm",
        "outputId": "97ea7196-ad2e-4a98-99c0-42a04a11340c"
      },
      "execution_count": 8,
      "outputs": [
        {
          "output_type": "stream",
          "name": "stdout",
          "text": [
            "Enter city name: perth\n",
            "Enter temperature in Celsius: 13\n",
            "Enter wind speed (km/h): 2.2\n",
            "Enter wind direction (N/S/E/W): e\n",
            "Weather in perth: 13.0°C, Wind: 2.2 km/h E\n"
          ]
        }
      ]
    },
    {
      "cell_type": "code",
      "source": [
        "def celcius_to_fahrenheit():\n",
        "  celsius = pyip.inputFloat(\"Enter temperature in Celsius: \")\n",
        "  fahrenheit = (celsius * 9/5) + 32\n",
        "  print(f\"{celsius}°C is equal to {fahrenheit}°F\")"
      ],
      "metadata": {
        "id": "CevF-Ia_12s4"
      },
      "execution_count": 20,
      "outputs": []
    }
  ]
}